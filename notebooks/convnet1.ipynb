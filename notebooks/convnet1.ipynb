{
 "cells": [
  {
   "cell_type": "code",
   "execution_count": 1,
   "metadata": {},
   "outputs": [
    {
     "name": "stderr",
     "output_type": "stream",
     "text": [
      "2023-10-22 13:34:45.041352: E tensorflow/compiler/xla/stream_executor/cuda/cuda_dnn.cc:9342] Unable to register cuDNN factory: Attempting to register factory for plugin cuDNN when one has already been registered\n",
      "2023-10-22 13:34:45.041406: E tensorflow/compiler/xla/stream_executor/cuda/cuda_fft.cc:609] Unable to register cuFFT factory: Attempting to register factory for plugin cuFFT when one has already been registered\n",
      "2023-10-22 13:34:45.041444: E tensorflow/compiler/xla/stream_executor/cuda/cuda_blas.cc:1518] Unable to register cuBLAS factory: Attempting to register factory for plugin cuBLAS when one has already been registered\n",
      "2023-10-22 13:34:45.049015: I tensorflow/core/platform/cpu_feature_guard.cc:182] This TensorFlow binary is optimized to use available CPU instructions in performance-critical operations.\n",
      "To enable the following instructions: AVX2 FMA, in other operations, rebuild TensorFlow with the appropriate compiler flags.\n",
      "2023-10-22 13:34:46.063438: W tensorflow/compiler/tf2tensorrt/utils/py_utils.cc:38] TF-TRT Warning: Could not find TensorRT\n"
     ]
    }
   ],
   "source": [
    "from keras import layers\n",
    "from keras import models\n",
    "\n",
    "model = models.Sequential()\n",
    "\n",
    "model.add(layers.Conv2D(32, (3, 3), activation='relu', input_shape=(28, 28, 1)))\n",
    "\n",
    "model.add(layers.MaxPooling2D((2, 2)))\n",
    "\n",
    "model.add(layers.Conv2D(64, (3, 3), activation='relu'))\n",
    "\n",
    "model.add(layers.MaxPooling2D((2, 2)))\n",
    "\n",
    "model.add(layers.Conv2D(64, (3, 3), activation='relu'))"
   ]
  },
  {
   "cell_type": "code",
   "execution_count": 2,
   "metadata": {},
   "outputs": [
    {
     "name": "stdout",
     "output_type": "stream",
     "text": [
      "Model: \"sequential\"\n",
      "_________________________________________________________________\n",
      " Layer (type)                Output Shape              Param #   \n",
      "=================================================================\n",
      " conv2d (Conv2D)             (None, 26, 26, 32)        320       \n",
      "                                                                 \n",
      " max_pooling2d (MaxPooling2  (None, 13, 13, 32)        0         \n",
      " D)                                                              \n",
      "                                                                 \n",
      " conv2d_1 (Conv2D)           (None, 11, 11, 64)        18496     \n",
      "                                                                 \n",
      " max_pooling2d_1 (MaxPoolin  (None, 5, 5, 64)          0         \n",
      " g2D)                                                            \n",
      "                                                                 \n",
      " conv2d_2 (Conv2D)           (None, 3, 3, 64)          36928     \n",
      "                                                                 \n",
      "=================================================================\n",
      "Total params: 55744 (217.75 KB)\n",
      "Trainable params: 55744 (217.75 KB)\n",
      "Non-trainable params: 0 (0.00 Byte)\n",
      "_________________________________________________________________\n"
     ]
    }
   ],
   "source": [
    "model.summary()"
   ]
  },
  {
   "cell_type": "code",
   "execution_count": 3,
   "metadata": {},
   "outputs": [],
   "source": [
    "model.add(layers.Flatten())\n",
    "\n",
    "# 3 * 3 * 64 = 576\n",
    "model.add(layers.Dense(64, activation='relu'))\n",
    "\n",
    "model.add(layers.Dense(10, activation='softmax'))"
   ]
  },
  {
   "cell_type": "code",
   "execution_count": 4,
   "metadata": {},
   "outputs": [
    {
     "name": "stdout",
     "output_type": "stream",
     "text": [
      "Model: \"sequential\"\n",
      "_________________________________________________________________\n",
      " Layer (type)                Output Shape              Param #   \n",
      "=================================================================\n",
      " conv2d (Conv2D)             (None, 26, 26, 32)        320       \n",
      "                                                                 \n",
      " max_pooling2d (MaxPooling2  (None, 13, 13, 32)        0         \n",
      " D)                                                              \n",
      "                                                                 \n",
      " conv2d_1 (Conv2D)           (None, 11, 11, 64)        18496     \n",
      "                                                                 \n",
      " max_pooling2d_1 (MaxPoolin  (None, 5, 5, 64)          0         \n",
      " g2D)                                                            \n",
      "                                                                 \n",
      " conv2d_2 (Conv2D)           (None, 3, 3, 64)          36928     \n",
      "                                                                 \n",
      " flatten (Flatten)           (None, 576)               0         \n",
      "                                                                 \n",
      " dense (Dense)               (None, 64)                36928     \n",
      "                                                                 \n",
      " dense_1 (Dense)             (None, 10)                650       \n",
      "                                                                 \n",
      "=================================================================\n",
      "Total params: 93322 (364.54 KB)\n",
      "Trainable params: 93322 (364.54 KB)\n",
      "Non-trainable params: 0 (0.00 Byte)\n",
      "_________________________________________________________________\n"
     ]
    }
   ],
   "source": [
    "model.summary()"
   ]
  },
  {
   "cell_type": "code",
   "execution_count": 5,
   "metadata": {},
   "outputs": [
    {
     "name": "stdout",
     "output_type": "stream",
     "text": [
      "train_images.shape=(60000, 28, 28)\n",
      "train_labels.shape=(60000,)\n",
      "test_images.shape=(10000, 28, 28)\n",
      "test_labels.shape=(10000,)\n"
     ]
    }
   ],
   "source": [
    "from keras.datasets import mnist\n",
    "from keras.utils import to_categorical\n",
    "\n",
    "(train_images, train_labels), (test_images, test_labels) = mnist.load_data()\n",
    "\n",
    "print(f\"{train_images.shape=}\")\n",
    "print(f\"{train_labels.shape=}\")\n",
    "print(f\"{test_images.shape=}\")\n",
    "print(f\"{test_labels.shape=}\")"
   ]
  },
  {
   "cell_type": "code",
   "execution_count": 6,
   "metadata": {},
   "outputs": [
    {
     "name": "stdout",
     "output_type": "stream",
     "text": [
      "train_images.shape=(60000, 28, 28, 1)\n",
      "test_images.shape=(10000, 28, 28, 1)\n"
     ]
    }
   ],
   "source": [
    "train_images = train_images.reshape((60000, 28, 28, 1))\n",
    "train_images = train_images.astype('float32') / 255\n",
    "\n",
    "test_images = test_images.reshape((10000, 28, 28, 1))\n",
    "test_images = test_images.astype('float32') / 255\n",
    "\n",
    "print(f\"{train_images.shape=}\")\n",
    "print(f\"{test_images.shape=}\")"
   ]
  },
  {
   "cell_type": "code",
   "execution_count": 7,
   "metadata": {},
   "outputs": [
    {
     "name": "stdout",
     "output_type": "stream",
     "text": [
      "train_labels.shape=(60000, 10)\n",
      "test_labels.shape=(10000, 10)\n"
     ]
    }
   ],
   "source": [
    "train_labels = to_categorical(train_labels)\n",
    "test_labels = to_categorical(test_labels)\n",
    "\n",
    "print(f\"{train_labels.shape=}\")\n",
    "print(f\"{test_labels.shape=}\")"
   ]
  },
  {
   "cell_type": "code",
   "execution_count": 8,
   "metadata": {},
   "outputs": [
    {
     "name": "stdout",
     "output_type": "stream",
     "text": [
      "Epoch 1/5\n",
      "935/938 [============================>.] - ETA: 0s - loss: 0.1742 - accuracy: 0.9448WARNING:tensorflow:Can save best model only with val_loss available, skipping.\n",
      "938/938 [==============================] - 15s 15ms/step - loss: 0.1739 - accuracy: 0.9449\n",
      "Epoch 2/5\n",
      "936/938 [============================>.] - ETA: 0s - loss: 0.0473 - accuracy: 0.9853WARNING:tensorflow:Can save best model only with val_loss available, skipping.\n",
      "938/938 [==============================] - 14s 15ms/step - loss: 0.0473 - accuracy: 0.9853\n",
      "Epoch 3/5\n",
      "938/938 [==============================] - ETA: 0s - loss: 0.0334 - accuracy: 0.9897WARNING:tensorflow:Can save best model only with val_loss available, skipping.\n",
      "938/938 [==============================] - 14s 15ms/step - loss: 0.0334 - accuracy: 0.9897\n",
      "Epoch 4/5\n",
      "938/938 [==============================] - ETA: 0s - loss: 0.0252 - accuracy: 0.9920WARNING:tensorflow:Can save best model only with val_loss available, skipping.\n",
      "938/938 [==============================] - 14s 15ms/step - loss: 0.0252 - accuracy: 0.9920\n",
      "Epoch 5/5\n",
      "938/938 [==============================] - ETA: 0s - loss: 0.0190 - accuracy: 0.9937WARNING:tensorflow:Can save best model only with val_loss available, skipping.\n",
      "938/938 [==============================] - 14s 15ms/step - loss: 0.0190 - accuracy: 0.9937\n"
     ]
    }
   ],
   "source": [
    "from keras import callbacks\n",
    "\n",
    "logdir = \"../my_logdir\"\n",
    "best_model = logdir + \"/my_best_model.keras\"\n",
    "my_callbacks = [\n",
    "    callbacks.ModelCheckpoint(filepath=best_model, save_best_only=True),\n",
    "    callbacks.TensorBoard(log_dir=logdir)\n",
    "]\n",
    "model.compile(optimizer='rmsprop',\n",
    "              loss='categorical_crossentropy',\n",
    "              metrics=['accuracy'])\n",
    "\n",
    "history = model.fit(\n",
    "    train_images, \n",
    "    train_labels, \n",
    "    epochs=5, \n",
    "    batch_size=64,\n",
    "    callbacks=my_callbacks\n",
    ")"
   ]
  },
  {
   "cell_type": "code",
   "execution_count": 9,
   "metadata": {},
   "outputs": [
    {
     "name": "stdout",
     "output_type": "stream",
     "text": [
      "dict_items([('loss', [0.1738741099834442, 0.047282151877880096, 0.03340259939432144, 0.02519937977194786, 0.018981611356139183]), ('accuracy', [0.9448500275611877, 0.9853000044822693, 0.9896500110626221, 0.9919833540916443, 0.9937166571617126])])\n",
      "loss: [0.1738741099834442, 0.047282151877880096, 0.03340259939432144, 0.02519937977194786, 0.018981611356139183]\n",
      "accuracy: [0.9448500275611877, 0.9853000044822693, 0.9896500110626221, 0.9919833540916443, 0.9937166571617126]\n"
     ]
    }
   ],
   "source": [
    "print(history.history.items())\n",
    "for k, v in history.history.items():\n",
    "    print(f\"{k}: {v}\")"
   ]
  },
  {
   "cell_type": "code",
   "execution_count": 10,
   "metadata": {},
   "outputs": [
    {
     "name": "stdout",
     "output_type": "stream",
     "text": [
      "313/313 [==============================] - 1s 3ms/step - loss: 0.0372 - accuracy: 0.9903\n"
     ]
    }
   ],
   "source": [
    "result= model.evaluate(test_images, test_labels)\n"
   ]
  },
  {
   "cell_type": "code",
   "execution_count": 11,
   "metadata": {},
   "outputs": [
    {
     "name": "stdout",
     "output_type": "stream",
     "text": [
      "['loss', 'accuracy']\n"
     ]
    }
   ],
   "source": [
    "print(model.metrics_names)"
   ]
  },
  {
   "cell_type": "code",
   "execution_count": 12,
   "metadata": {},
   "outputs": [
    {
     "name": "stdout",
     "output_type": "stream",
     "text": [
      "loss: 0.03724966570734978\n",
      "accuracy: 0.9902999997138977\n"
     ]
    }
   ],
   "source": [
    "for i, value in enumerate(result):\n",
    "    print(f\"{model.metrics_names[i]}: {value}\")"
   ]
  },
  {
   "cell_type": "code",
   "execution_count": null,
   "metadata": {},
   "outputs": [],
   "source": []
  }
 ],
 "metadata": {
  "kernelspec": {
   "display_name": "Python 3",
   "language": "python",
   "name": "python3"
  },
  "language_info": {
   "codemirror_mode": {
    "name": "ipython",
    "version": 3
   },
   "file_extension": ".py",
   "mimetype": "text/x-python",
   "name": "python",
   "nbconvert_exporter": "python",
   "pygments_lexer": "ipython3",
   "version": "3.10.8"
  }
 },
 "nbformat": 4,
 "nbformat_minor": 2
}
